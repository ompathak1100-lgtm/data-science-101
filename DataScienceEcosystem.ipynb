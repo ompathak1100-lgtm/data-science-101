{
 "cells": [
  {
   "cell_type": "markdown",
   "id": "dbf788bc-a340-4847-a2b4-9a943334b8a4",
   "metadata": {},
   "source": [
    "# Data Science Tools and Ecosystem"
   ]
  },
  {
   "cell_type": "markdown",
   "id": "6749e037-43ad-441b-8165-4541492ebeb4",
   "metadata": {},
   "source": [
    "In this notebook, Data Science Tools and Ecosystem are summarized."
   ]
  },
  {
   "cell_type": "markdown",
   "id": "7c20e33a-51ca-4c69-a232-25d37527eac1",
   "metadata": {},
   "source": [
    "__Some of the key takeaways from the course:__  \n",
    "-Popular languages used by data scientists.  \n",
    "-Commanly used libraries used by data scientists.  \n",
    "-Some popular tools used by data scientists."
   ]
  },
  {
   "attachments": {},
   "cell_type": "markdown",
   "id": "c77a3fd6-9871-49db-b314-f11641867c6b",
   "metadata": {},
   "source": [
    "Some of the popular languages that Data Scientists use are:  \n",
    "1.Python  \n",
    "2.R  \n",
    "3.Scala  \n",
    "4.SQL  "
   ]
  },
  {
   "cell_type": "markdown",
   "id": "a9888968-cfe3-4ebc-b338-ba4d23700224",
   "metadata": {},
   "source": [
    "Some of the commonly used libraries used by Data Scientists include:  \n",
    "1.Pandas(Python)  \n",
    "2.Tensorflow(Python)  \n",
    "3.ggplot(R)"
   ]
  },
  {
   "cell_type": "markdown",
   "id": "0e230623-6de7-45b8-af05-c594073ba1c3",
   "metadata": {},
   "source": [
    "Data Science Tools:  \n",
    "1.Jupyter Notebook  \n",
    "2.RStudio  \n",
    "3.Spyder"
   ]
  },
  {
   "cell_type": "markdown",
   "id": "32270d63-2fcf-4b38-80bc-53555143d20b",
   "metadata": {},
   "source": [
    "### Below are a few examples of evaluating arithmetic expressions in Python"
   ]
  },
  {
   "cell_type": "code",
   "execution_count": 1,
   "id": "bb93e446-43be-4e78-a9d3-8fa32f63ae75",
   "metadata": {},
   "outputs": [
    {
     "data": {
      "text/plain": [
       "17"
      ]
     },
     "execution_count": 1,
     "metadata": {},
     "output_type": "execute_result"
    }
   ],
   "source": [
    "#This a simple arithmetic expression to mutiply then add integers  \n",
    "(3*4)+5"
   ]
  },
  {
   "cell_type": "code",
   "execution_count": 3,
   "id": "c9853594-725c-4baa-94ba-f67b945f8f33",
   "metadata": {},
   "outputs": [
    {
     "data": {
      "text/plain": [
       "3.3333333333333335"
      ]
     },
     "execution_count": 3,
     "metadata": {},
     "output_type": "execute_result"
    }
   ],
   "source": [
    "#This will convert 200 minutes to hours by diving by 60.  \n",
    "200/60"
   ]
  },
  {
   "cell_type": "markdown",
   "id": "8c764ac9-fb80-45ef-bbe4-77e047d58623",
   "metadata": {},
   "source": [
    "## Author  \n",
    "Om Pathak"
   ]
  }
 ],
 "metadata": {
  "kernelspec": {
   "display_name": "Python 3 (ipykernel)",
   "language": "python",
   "name": "python3"
  },
  "language_info": {
   "codemirror_mode": {
    "name": "ipython",
    "version": 3
   },
   "file_extension": ".py",
   "mimetype": "text/x-python",
   "name": "python",
   "nbconvert_exporter": "python",
   "pygments_lexer": "ipython3",
   "version": "3.13.5"
  }
 },
 "nbformat": 4,
 "nbformat_minor": 5
}
